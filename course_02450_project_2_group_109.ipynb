{
 "cells": [
  {
   "cell_type": "markdown",
   "id": "9f64682f",
   "metadata": {},
   "source": [
    "# Project_2"
   ]
  },
  {
   "cell_type": "markdown",
   "id": "01e1df30",
   "metadata": {},
   "source": []
  },
  {
   "cell_type": "markdown",
   "id": "eeb593e8",
   "metadata": {},
   "source": [
    "## Regression"
   ]
  },
  {
   "cell_type": "markdown",
   "id": "ab0223b1",
   "metadata": {},
   "source": [
    "### Part A Linear Regression"
   ]
  },
  {
   "cell_type": "markdown",
   "id": "296aecb4",
   "metadata": {},
   "source": [
    "Description:\n",
    "We will try to predict \"adiposity\" which refers to the body fat percentage.\n",
    "We choose this because we have indicators that the other attributes will be able to predict it (check correlations-> high numbers).\n",
    "Also, it follows a normal distribution so we will not have troubles with that."
   ]
  },
  {
   "cell_type": "code",
   "execution_count": 70,
   "id": "10a27987",
   "metadata": {},
   "outputs": [],
   "source": [
    "%matplotlib inline\n",
    "#%matplotlib widget"
   ]
  },
  {
   "cell_type": "code",
   "execution_count": 71,
   "id": "4055b8bf",
   "metadata": {},
   "outputs": [],
   "source": [
    "import pandas as pd \n",
    "import numpy as np\n",
    "import matplotlib.pyplot as plt"
   ]
  },
  {
   "cell_type": "code",
   "execution_count": 72,
   "id": "2554974c",
   "metadata": {},
   "outputs": [],
   "source": [
    "data = pd.read_csv('https://hastie.su.domains/ElemStatLearn/datasets/SAheart.data?fbclid=IwAR0bnadUy7l7_jwPgJzAW1Dg5RM_JyAKv_doOWxuP2Fx2XpkTAliWHRl73U') "
   ]
  },
  {
   "cell_type": "markdown",
   "id": "37114ca5",
   "metadata": {},
   "source": [
    "#### Data cleaning"
   ]
  },
  {
   "cell_type": "code",
   "execution_count": 73,
   "id": "bd1d2bf2",
   "metadata": {},
   "outputs": [
    {
     "name": "stdout",
     "output_type": "stream",
     "text": [
      "Index(['sbp', 'tobacco', 'ldl', 'adiposity', 'typea', 'obesity', 'alcohol',\n",
      "       'age', 'chd', 'famhist_Absent', 'famhist_Present'],\n",
      "      dtype='object')\n"
     ]
    }
   ],
   "source": [
    "# drop unnecessary name variable\n",
    "data.drop(columns = 'row.names',inplace=True)\n",
    "# one hot enc of categorical variable famhist\n",
    "df_famhist = pd.get_dummies(data['famhist'],prefix=\"famhist\")\n",
    "data.drop(columns = 'famhist',inplace=True)\n",
    "data = pd.concat([data, df_famhist], axis=1)\n",
    "# !!!! In case we include chd we are going to one hot encode that too!\n",
    "print(data.columns)"
   ]
  },
  {
   "cell_type": "code",
   "execution_count": 74,
   "id": "c6817724",
   "metadata": {},
   "outputs": [],
   "source": [
    "X = data.iloc[:,[0,1,2,4,5,6,7,8,9,10]]\n",
    "X_data_columns = X.columns\n",
    "y = data.iloc[:,[3]]"
   ]
  },
  {
   "cell_type": "markdown",
   "id": "cc88e841",
   "metadata": {},
   "source": [
    "##### Standardize the data (mean=0, std=1)"
   ]
  },
  {
   "cell_type": "code",
   "execution_count": 75,
   "id": "f2ddac28",
   "metadata": {},
   "outputs": [],
   "source": [
    "from sklearn.preprocessing import StandardScaler"
   ]
  },
  {
   "cell_type": "code",
   "execution_count": 76,
   "id": "c0738c07",
   "metadata": {},
   "outputs": [],
   "source": [
    "X = StandardScaler().fit_transform(X)\n",
    "#X = X.to_numpy()\n",
    "y = y.to_numpy()"
   ]
  },
  {
   "cell_type": "code",
   "execution_count": 77,
   "id": "89e3ddcd",
   "metadata": {},
   "outputs": [],
   "source": [
    "#### Model\n"
   ]
  },
  {
   "cell_type": "code",
   "execution_count": 78,
   "id": "e681d1ea",
   "metadata": {},
   "outputs": [],
   "source": [
    "##### Cross validation"
   ]
  },
  {
   "cell_type": "code",
   "execution_count": 79,
   "id": "15ed08f8",
   "metadata": {},
   "outputs": [],
   "source": [
    "from sklearn import model_selection"
   ]
  },
  {
   "cell_type": "code",
   "execution_count": 80,
   "id": "26c02ff4",
   "metadata": {},
   "outputs": [],
   "source": [
    "K = 10\n",
    "CV = model_selection.KFold(K, shuffle=True)"
   ]
  },
  {
   "cell_type": "code",
   "execution_count": 81,
   "id": "51a6326e",
   "metadata": {},
   "outputs": [],
   "source": [
    "#from sklearn.linear_model import LinearRegression\n",
    "from sklearn.linear_model import Ridge  # it's linear regression with l2 regularization\n",
    "#from sklearn.linear_model import RidgeCV  # it's linear regression with l2 regularization CV stands for cross validation\n",
    "import numpy as np\n",
    "from sklearn.metrics import mean_squared_error"
   ]
  },
  {
   "cell_type": "code",
   "execution_count": 85,
   "id": "95341ea4",
   "metadata": {},
   "outputs": [],
   "source": [
    "generalization_err_per_model = {}\n",
    "training_err_per_model = {}\n",
    "lambdas = np.power(10.,range(-5,9))\n",
    "lambdas= np.append(lambdas,[2,4,6,8])\n",
    "lambdas = np.sort(lambdas)\n",
    "\n",
    "for lambda_value in lambdas:\n",
    "    generalization_err_per_model[lambda_value]=[]\n",
    "    training_err_per_model[lambda_value]=[]\n",
    "\n",
    "for train_index, test_index in CV.split(X,y):\n",
    "    # extract training and test set for current CV fold\n",
    "    X_train, X_test = X[train_index], X[test_index]\n",
    "    y_train, y_test = y[train_index], y[test_index]\n",
    "    for lambda_value in lambdas:\n",
    "        reg = Ridge(alpha=lambda_value)\n",
    "        reg.fit(X_train, y_train)\n",
    "        \n",
    "        y_pred = reg.predict(X_test)\n",
    "        generalization_err = mean_squared_error(y_test, y_pred, squared=True)\n",
    "        generalization_err_per_model[lambda_value].append(generalization_err)\n",
    "\n",
    "        y_pred = reg.predict(X_train)\n",
    "        training_err = mean_squared_error(y_train, y_pred, squared=True)\n",
    "        training_err_per_model[lambda_value].append(mean_squared_error(y_train, y_pred, squared=True))\n",
    "\n",
    "\n",
    "avg_generalization_err_per_lambda_value = {}\n",
    "for lambda_value, errors in generalization_err_per_model.items():\n",
    "    avg_generalization_err_per_lambda_value[lambda_value] = sum(errors)/len(errors)\n",
    "avg_generalization_err_per_lambda_value = list(avg_generalization_err_per_lambda_value.values())\n",
    "\n",
    "avg_training_err_per_lambda_value = {}\n",
    "for lambda_value, errors in training_err_per_model.items():\n",
    "    avg_training_err_per_lambda_value[lambda_value] = sum(errors)/len(errors)\n",
    "avg_training_err_per_lambda_value = list(avg_training_err_per_lambda_value.values())\n"
   ]
  },
  {
   "cell_type": "code",
   "execution_count": 86,
   "id": "65fd5779",
   "metadata": {},
   "outputs": [
    {
     "data": {
      "image/png": "[encoded data removed]",
      "text/plain": [
       "<Figure size 432x288 with 1 Axes>"
      ]
     },
     "metadata": {
      "needs_background": "light"
     },
     "output_type": "display_data"
    }
   ],
   "source": [
    "import matplotlib.pyplot as plt\n",
    "\n",
    "plt.semilogx(lambdas, avg_training_err_per_lambda_value, label=\"Train\", marker = \".\")\n",
    "plt.semilogx(lambdas, avg_generalization_err_per_lambda_value, label=\"Test\", marker = \".\" )\n",
    "plt.legend(loc=\"lower left\")\n",
    "plt.xlabel(\"Regularization parameter\")\n",
    "plt.ylabel(\"SME\")\n",
    "plt.show()\n"
   ]
  },
  {
   "cell_type": "markdown",
   "id": "4b984288",
   "metadata": {},
   "source": [
    "Below he have the coefficients of the attriutes that we are using.\n",
    "Keep in mind if you see an extra coef then it is just the interecept that I might decided to include."
   ]
  },
  {
   "cell_type": "code",
   "execution_count": 87,
   "id": "6e68f883",
   "metadata": {},
   "outputs": [
    {
     "name": "stdout",
     "output_type": "stream",
     "text": [
      "[ 3.24410208e-01  1.04446881e-03  1.08872056e+00 -4.48471777e-01\n",
      "  4.28695994e+00  2.64478750e-01  3.07071380e+00  1.32762276e-01\n",
      " -1.52448212e-02  1.52448212e-02]\n",
      "['sbp', 'tobacco', 'ldl', 'typea', 'obesity', 'alcohol', 'age', 'chd', 'famhist_Absent', 'famhist_Present']\n"
     ]
    }
   ],
   "source": [
    "reg = Ridge(alpha=1.0)\n",
    "reg.fit(X_train, y_train)\n",
    "print(reg.coef_[0])\n",
    "print(list(X_data_columns))"
   ]
  },
  {
   "cell_type": "code",
   "execution_count": null,
   "id": "06d8971d",
   "metadata": {},
   "outputs": [],
   "source": []
  }
 ],
 "metadata": {
  "kernelspec": {
   "display_name": "Python 3 (ipykernel)",
   "language": "python",
   "name": "python3"
  },
  "language_info": {
   "codemirror_mode": {
    "name": "ipython",
    "version": 3
   },
   "file_extension": ".py",
   "mimetype": "text/x-python",
   "name": "python",
   "nbconvert_exporter": "python",
   "pygments_lexer": "ipython3",
   "version": "3.9.12"
  }
 },
 "nbformat": 4,
 "nbformat_minor": 5
}
