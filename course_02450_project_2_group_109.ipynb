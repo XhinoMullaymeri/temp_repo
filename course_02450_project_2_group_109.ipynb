{
 "cells": [
  {
   "cell_type": "markdown",
   "id": "9f64682f",
   "metadata": {},
   "source": [
    "## Project_2"
   ]
  },
  {
   "cell_type": "markdown",
   "id": "01e1df30",
   "metadata": {},
   "source": []
  },
  {
   "cell_type": "markdown",
   "id": "eeb593e8",
   "metadata": {},
   "source": [
    "## Regression"
   ]
  },
  {
   "cell_type": "markdown",
   "id": "ab0223b1",
   "metadata": {},
   "source": [
    "### Part A Regularized Linear Regression"
   ]
  },
  {
   "cell_type": "markdown",
   "id": "296aecb4",
   "metadata": {},
   "source": [
    "Description:\n",
    "We will try to predict \"adiposity\" which refers to the body fat percentage.\n",
    "We choose this because we have indicators that the other attributes will be able to predict it (check correlations-> high numbers).\n",
    "Also, it follows a normal distribution so we will not have troubles with that."
   ]
  },
  {
   "cell_type": "code",
   "execution_count": 1,
   "id": "10a27987",
   "metadata": {},
   "outputs": [],
   "source": [
    "%matplotlib inline\n",
    "#%matplotlib widget"
   ]
  },
  {
   "cell_type": "code",
   "execution_count": 2,
   "id": "4055b8bf",
   "metadata": {},
   "outputs": [],
   "source": [
    "import pandas as pd \n",
    "import numpy as np\n",
    "import matplotlib.pyplot as plt"
   ]
  },
  {
   "cell_type": "code",
   "execution_count": 3,
   "id": "2554974c",
   "metadata": {},
   "outputs": [],
   "source": [
    "data = pd.read_csv('https://hastie.su.domains/ElemStatLearn/datasets/SAheart.data?fbclid=IwAR0bnadUy7l7_jwPgJzAW1Dg5RM_JyAKv_doOWxuP2Fx2XpkTAliWHRl73U') "
   ]
  },
  {
   "cell_type": "markdown",
   "id": "37114ca5",
   "metadata": {},
   "source": [
    "#### Data cleaning"
   ]
  },
  {
   "cell_type": "code",
   "execution_count": 4,
   "id": "bd1d2bf2",
   "metadata": {},
   "outputs": [
    {
     "name": "stdout",
     "output_type": "stream",
     "text": [
      "Index(['sbp', 'tobacco', 'ldl', 'adiposity', 'typea', 'obesity', 'alcohol',\n",
      "       'age', 'famhist_Absent', 'famhist_Present', 'chd_0', 'chd_1'],\n",
      "      dtype='object')\n"
     ]
    }
   ],
   "source": [
    "# drop unnecessary name variable\n",
    "data.drop(columns = 'row.names',inplace=True)\n",
    "# one hot enc of categorical variable famhist\n",
    "df_famhist = pd.get_dummies(data['famhist'],prefix=\"famhist\")\n",
    "data.drop(columns = 'famhist',inplace=True)\n",
    "data = pd.concat([data, df_famhist], axis=1)\n",
    "\n",
    "df_chd = pd.get_dummies(data['chd'],prefix=\"chd\")\n",
    "data.drop(columns = 'chd',inplace=True)\n",
    "data = pd.concat([data, df_chd], axis=1)\n",
    "\n",
    "\n",
    "print(data.columns)"
   ]
  },
  {
   "cell_type": "code",
   "execution_count": 5,
   "id": "c6817724",
   "metadata": {},
   "outputs": [],
   "source": [
    "X = data.iloc[:,[0,1,2,4,5,6,7,8,9,10,11]]\n",
    "X_data_columns = X.columns\n",
    "y = data.iloc[:,[3]]"
   ]
  },
  {
   "cell_type": "markdown",
   "id": "cc88e841",
   "metadata": {},
   "source": [
    "##### Standardize the data (mean=0, std=1)"
   ]
  },
  {
   "cell_type": "code",
   "execution_count": 6,
   "id": "f2ddac28",
   "metadata": {},
   "outputs": [],
   "source": [
    "from sklearn.preprocessing import StandardScaler"
   ]
  },
  {
   "cell_type": "code",
   "execution_count": 7,
   "id": "c0738c07",
   "metadata": {},
   "outputs": [],
   "source": [
    "X = StandardScaler().fit_transform(X)\n",
    "#X = X.to_numpy()\n",
    "y = y.to_numpy()"
   ]
  },
  {
   "cell_type": "code",
   "execution_count": 8,
   "id": "89e3ddcd",
   "metadata": {},
   "outputs": [],
   "source": [
    "#### Model\n"
   ]
  },
  {
   "cell_type": "code",
   "execution_count": 9,
   "id": "e681d1ea",
   "metadata": {},
   "outputs": [],
   "source": [
    "##### Cross validation"
   ]
  },
  {
   "cell_type": "code",
   "execution_count": 10,
   "id": "15ed08f8",
   "metadata": {},
   "outputs": [],
   "source": [
    "from sklearn import model_selection\n",
    "#from sklearn.linear_model import LinearRegression\n",
    "from sklearn.linear_model import Ridge  # it's linear regression with l2 regularization\n",
    "#from sklearn.linear_model import RidgeCV  # it's linear regression with l2 regularization CV stands for cross validation\n",
    "import numpy as np\n",
    "from sklearn.metrics import mean_squared_error"
   ]
  },
  {
   "cell_type": "code",
   "execution_count": 11,
   "id": "26c02ff4",
   "metadata": {},
   "outputs": [],
   "source": [
    "K = 10\n",
    "CV = model_selection.KFold(K, shuffle=True)"
   ]
  },
  {
   "cell_type": "code",
   "execution_count": null,
   "id": "51a6326e",
   "metadata": {},
   "outputs": [],
   "source": []
  },
  {
   "cell_type": "code",
   "execution_count": 12,
   "id": "95341ea4",
   "metadata": {},
   "outputs": [],
   "source": [
    "generalization_err_per_model = {}\n",
    "training_err_per_model = {}\n",
    "lambdas = np.power(10.,range(-5,9))\n",
    "#lambdas= np.append(lambdas,[2,4,6,8])\n",
    "lambdas = np.sort(lambdas)\n",
    "\n",
    "# train_data_x, train_data_y, test_data_x, test_data_y, test_data, lambda_value, model, train_error, test_error\n",
    "models_info = []\n",
    "\n",
    "for lambda_value in lambdas:\n",
    "    generalization_err_per_model[lambda_value]=[]\n",
    "    training_err_per_model[lambda_value]=[]\n",
    "\n",
    "for train_index, test_index in CV.split(X,y):\n",
    "    # extract training and test set for current CV fold\n",
    "    X_train, X_test = X[train_index], X[test_index]\n",
    "    y_train, y_test = y[train_index], y[test_index]\n",
    "    for lambda_value in lambdas:\n",
    "        model = Ridge(alpha=lambda_value)\n",
    "        model.fit(X_train, y_train)\n",
    "        \n",
    "        y_pred = model.predict(X_test)\n",
    "        generalization_err = mean_squared_error(y_test, y_pred, squared=True)\n",
    "        generalization_err_per_model[lambda_value].append(generalization_err)\n",
    "\n",
    "        y_pred = model.predict(X_train)\n",
    "        training_err = mean_squared_error(y_train, y_pred, squared=True)\n",
    "        training_err_per_model[lambda_value].append(mean_squared_error(y_train, y_pred, squared=True))\n",
    "        models_info.append([X_train,y_train,X_test,y_test,lambda_value,model,training_err,generalization_err])\n",
    "        #models_info.append(lambda_value)\n"
   ]
  },
  {
   "cell_type": "code",
   "execution_count": 13,
   "id": "4adbcb62",
   "metadata": {},
   "outputs": [],
   "source": [
    "# avg_generalization_err_per_lambda_value = {}\n",
    "# for lambda_value, errors in generalization_err_per_model.items():\n",
    "#     avg_generalization_err_per_lambda_value[lambda_value] = sum(errors)/len(errors)\n",
    "# avg_generalization_err_per_lambda_value = list(avg_generalization_err_per_lambda_value.values())\n",
    "\n",
    "# avg_training_err_per_lambda_value = {}\n",
    "# for lambda_value, errors in training_err_per_model.items():\n",
    "#     avg_training_err_per_lambda_value[lambda_value] = sum(errors)/len(errors)\n",
    "# avg_training_err_per_lambda_value = list(avg_training_err_per_lambda_value.values())\n",
    "\n",
    "# optimal_lambda = np.argmin(avg_generalization_err_per_lambda_value)\n"
   ]
  },
  {
   "cell_type": "code",
   "execution_count": 33,
   "id": "6b351495",
   "metadata": {},
   "outputs": [
    {
     "name": "stdout",
     "output_type": "stream",
     "text": [
      "Optimal Lambda: 10.0\n",
      "Best model train err: 17.7917 gen err: 8.6556\n"
     ]
    }
   ],
   "source": [
    "# #Find best labdba_value based on average generalazation error\n",
    "# # list of K elements where each element is a list of K model info with same lambda_value\n",
    "models_grouped_by_lambda_value = [models_info[i::len(lambdas)] for i in range(len(lambdas))]\n",
    "\n",
    "# # list of K elements where each element is  a tuple with (argmin of model with min gen_err, avg_gen_err so that we can find the best avg gen_err)\n",
    "# argmin_and_avg_gen_error = [ (np.argmin([model[7] for model in model_group]),np.average([model[7] for model in model_group])) for model_group in models_grouped_by_lambda_value]\n",
    "\n",
    "# # index of the minimum avg_gen_err so that we can pick best lambda\n",
    "# argmin_of_gen_errors = np.argmin(np.array(argmin_and_avg_gen_error)[:,1])\n",
    "# optimal_lambda = lambdas[argmin_of_gen_errors]\n",
    "# print(f'Optimal Lambda: {optimal_lambda}')\n",
    "\n",
    "\n",
    "avg_generalization_err_per_lambda_value = [ np.average([model_info[7] for model_info in group]) for group in models_grouped_by_lambda_value]\n",
    "avg_training_err_per_lambda_value =  [ np.average([model_info[6] for model_info in group]) for group in models_grouped_by_lambda_value]\n",
    "\n",
    "# # #Find best model\n",
    "# argmin_best_model = np.argmin([model[7] for model in models_grouped_by_lambda_value[argmin_of_gen_errors]])\n",
    "# best_model_info = models_grouped_by_lambda_value[argmin_of_gen_errors][argmin_best_model][:]\n",
    "# print(f'Best model train err: {round(best_model_info[6],4)} gen err: {round(best_model_info[7],4)}')\n",
    "\n",
    "\n",
    "def find_best_regularized_model(models_info):\n",
    "    models_grouped_by_lambda_value = [models_info[i::len(lambdas)] for i in range(len(lambdas))]\n",
    "    argmin_and_avg_gen_error = [ (np.argmin([model[7] for model in model_group]),np.average([model[7] for model in model_group])) for model_group in models_grouped_by_lambda_value]\n",
    "    argmin_of_gen_errors = np.argmin(np.array(argmin_and_avg_gen_error)[:,1])\n",
    "    optimal_lambda = lambdas[argmin_of_gen_errors]\n",
    "    print(f'Optimal Lambda: {optimal_lambda}')\n",
    "    argmin_best_model = np.argmin([model[7] for model in models_grouped_by_lambda_value[argmin_of_gen_errors]])\n",
    "    best_model_info = models_grouped_by_lambda_value[argmin_of_gen_errors][argmin_best_model][:]\n",
    "    print(f'Best model train err: {round(best_model_info[6],4)} gen err: {round(best_model_info[7],4)}')\n",
    "    return best_model_info\n",
    "best_model_info = find_best_regularized_model(models_info)\n",
    "\n",
    "\n",
    "def find_best_regularized_model_2_cross(models_info):\n",
    "    models_grouped_by_lambda_value = [models_info[i::len(lambdas)] for i in range(len(lambdas))]\n",
    "    #print(models_grouped_by_lambda_value)\n",
    "    argmin_and_avg_gen_error = [ (np.argmin([model[2] for model in model_group]),np.average([model[2] for model in model_group])) for model_group in models_grouped_by_lambda_value]\n",
    "    argmin_of_gen_errors = np.argmin(np.array(argmin_and_avg_gen_error)[:,1])\n",
    "    optimal_lambda = lambdas[argmin_of_gen_errors]\n",
    "    print(f'Optimal Lambda: {optimal_lambda}')\n",
    "    argmin_best_model = np.argmin([model[2] for model in models_grouped_by_lambda_value[argmin_of_gen_errors]])\n",
    "    best_model_info = models_grouped_by_lambda_value[argmin_of_gen_errors][argmin_best_model][:]\n",
    "    print(f'Best mode gen err: {round(best_model_info[2],4)}')"
   ]
  },
  {
   "cell_type": "code",
   "execution_count": null,
   "id": "b97b87aa",
   "metadata": {},
   "outputs": [],
   "source": []
  },
  {
   "cell_type": "code",
   "execution_count": null,
   "id": "935739d7",
   "metadata": {},
   "outputs": [],
   "source": []
  },
  {
   "cell_type": "code",
   "execution_count": null,
   "id": "0e58213c",
   "metadata": {},
   "outputs": [],
   "source": []
  },
  {
   "cell_type": "code",
   "execution_count": 35,
   "id": "65fd5779",
   "metadata": {},
   "outputs": [
    {
     "data": {
      "image/png": "[encoded data removed]",
      "text/plain": [
       "<Figure size 432x288 with 1 Axes>"
      ]
     },
     "metadata": {
      "needs_background": "light"
     },
     "output_type": "display_data"
    }
   ],
   "source": [
    "import matplotlib.pyplot as plt\n",
    "\n",
    "plt.semilogx(lambdas, avg_training_err_per_lambda_value, label=\"Train\", marker = \".\")\n",
    "plt.semilogx(lambdas, avg_generalization_err_per_lambda_value, label=\"Test\", marker = \".\" )\n",
    "plt.legend(loc=\"lower right\")\n",
    "plt.xlabel(\"Regularization parameter\")\n",
    "plt.ylabel(\"ASME\")\n",
    "plt.title(\"Lambda to ASME relation\")\n",
    "plt.show()\n"
   ]
  },
  {
   "cell_type": "markdown",
   "id": "4b984288",
   "metadata": {},
   "source": [
    "Below he have the coefficients of the attriutes that we are using.\n",
    "Keep in mind if you see an extra coef then it is just the interecept that I might decided to include."
   ]
  },
  {
   "cell_type": "code",
   "execution_count": 28,
   "id": "6e68f883",
   "metadata": {},
   "outputs": [
    {
     "name": "stdout",
     "output_type": "stream",
     "text": [
      "[ 0.40045856  0.01588855  1.04877848 -0.39027877  4.01217666  0.25997517\n",
      "  2.99612436 -0.00448548  0.00448548 -0.06350243  0.06350243]\n",
      "['sbp', 'tobacco', 'ldl', 'typea', 'obesity', 'alcohol', 'age', 'famhist_Absent', 'famhist_Present', 'chd_0', 'chd_1']\n"
     ]
    }
   ],
   "source": [
    "print(best_model_info[5].coef_[0])\n",
    "print(list(X_data_columns))"
   ]
  },
  {
   "cell_type": "markdown",
   "id": "773f4427",
   "metadata": {},
   "source": [
    "### Part B Regression comparison"
   ]
  },
  {
   "cell_type": "code",
   "execution_count": 29,
   "id": "3252c304",
   "metadata": {},
   "outputs": [],
   "source": [
    "from sklearn.dummy import DummyRegressor"
   ]
  },
  {
   "cell_type": "code",
   "execution_count": 30,
   "id": "60b676c8",
   "metadata": {},
   "outputs": [],
   "source": [
    "baseline_regr = DummyRegressor(strategy=\"mean\")"
   ]
  },
  {
   "cell_type": "code",
   "execution_count": null,
   "id": "e54b2a71",
   "metadata": {},
   "outputs": [],
   "source": []
  },
  {
   "cell_type": "code",
   "execution_count": null,
   "id": "3b49c4e9",
   "metadata": {},
   "outputs": [],
   "source": []
  },
  {
   "cell_type": "code",
   "execution_count": 34,
   "id": "30cbac0a",
   "metadata": {},
   "outputs": [
    {
     "name": "stdout",
     "output_type": "stream",
     "text": [
      "Optimal Lambda: 1e-05\n",
      "Best mode gen err: 41.6928\n",
      "Optimal Lambda: 1e-05\n",
      "Best mode gen err: 44.2948\n",
      "Optimal Lambda: 1e-05\n",
      "Best mode gen err: 28.8613\n",
      "Optimal Lambda: 1e-05\n",
      "Best mode gen err: 43.5686\n",
      "Optimal Lambda: 1e-05\n",
      "Best mode gen err: 46.4994\n",
      "Optimal Lambda: 1e-05\n",
      "Best mode gen err: 40.4591\n",
      "Optimal Lambda: 1e-05\n",
      "Best mode gen err: 36.3716\n",
      "Optimal Lambda: 1e-05\n",
      "Best mode gen err: 48.5221\n",
      "Optimal Lambda: 1e-05\n",
      "Best mode gen err: 45.3976\n",
      "Optimal Lambda: 1e-05\n",
      "Best mode gen err: 40.6305\n"
     ]
    }
   ],
   "source": [
    "# two level cross validation\n",
    "K1 = 10\n",
    "K2 = 10\n",
    "\n",
    "baseline_model_info = {}\n",
    "regularized_model_info = {}\n",
    "ann_model_info = {}\n",
    "\n",
    "#outer\n",
    "outer_index = -1\n",
    "for par_index, test_index in CV.split(X,y):\n",
    "    X_par, X_test = X[par_index], X[test_index]\n",
    "    y_par, y_test = y[par_index], y[test_index]\n",
    "    \n",
    "    outer_index = outer_index + 1\n",
    "    baseline_model_info[outer_index]= []\n",
    "    regularized_model_info[outer_index] = []\n",
    "    ann_model_info[outer_index] = []\n",
    "    \n",
    "    \n",
    "    #inner\n",
    "    for train_index, test_index in CV.split(X_par,y_par):\n",
    "        X_train, X_test = X[train_index], X[test_index]\n",
    "        y_train, y_test = y[train_index], y[test_index]\n",
    "        \n",
    "        #baseline\n",
    "        baseline_regr = DummyRegressor(strategy=\"mean\")\n",
    "        baseline_regr.fit(X, y)\n",
    "        y_pred = baseline_regr.predict(X_test)\n",
    "        validation_err = mean_squared_error(y_test, y_pred, squared=True)        \n",
    "        #model model, val_error\n",
    "        baseline_model_info[outer_index].append([baseline_regr,validation_err])\n",
    "        #baseline_model_info.append([baseline_regr,validation_err])\n",
    "        \n",
    "        # regularized model\n",
    "        for lambda_value in lambdas: \n",
    "            regularized_regr = Ridge(alpha=lambda_value)\n",
    "            regularized_regr.fit(X_train, y_train)\n",
    "            # lambda_value, model model, val_error\n",
    "            y_pred = model.predict(X_test)\n",
    "            validation_err = mean_squared_error(y_test, y_pred, squared=True)\n",
    "            regularized_model_info[outer_index].append([lambda_value,regularized_regr,validation_err])\n",
    "            #regularized_model_info.append([lambda_value,regularized_regr,validation_err])\n",
    "        \n",
    "        #ANN\n",
    "    find_best_regularized_model_2_cross(regularized_model_info[outer_index])"
   ]
  },
  {
   "cell_type": "code",
   "execution_count": null,
   "id": "f2f54d8b",
   "metadata": {},
   "outputs": [],
   "source": []
  },
  {
   "cell_type": "code",
   "execution_count": null,
   "id": "d1687d0c",
   "metadata": {},
   "outputs": [],
   "source": []
  },
  {
   "cell_type": "code",
   "execution_count": null,
   "id": "34a0add0",
   "metadata": {},
   "outputs": [],
   "source": []
  }
 ],
 "metadata": {
  "kernelspec": {
   "display_name": "Python 3 (ipykernel)",
   "language": "python",
   "name": "python3"
  },
  "language_info": {
   "codemirror_mode": {
    "name": "ipython",
    "version": 3
   },
   "file_extension": ".py",
   "mimetype": "text/x-python",
   "name": "python",
   "nbconvert_exporter": "python",
   "pygments_lexer": "ipython3",
   "version": "3.9.12"
  }
 },
 "nbformat": 4,
 "nbformat_minor": 5
}
